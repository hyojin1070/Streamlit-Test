{
 "cells": [
  {
   "cell_type": "markdown",
   "id": "43875390-550e-43f6-88f1-1aad5acf60ac",
   "metadata": {},
   "source": [
    "## 사전작업"
   ]
  },
  {
   "cell_type": "code",
   "execution_count": 1,
   "id": "f7631904-2029-42ec-9cd1-caf988dd5296",
   "metadata": {},
   "outputs": [],
   "source": [
    "from common import request_chat_completion, print_streaming_response_console"
   ]
  },
  {
   "cell_type": "code",
   "execution_count": 2,
   "id": "3d8252e4-8dd7-4bab-ac7f-26ee08ae7a61",
   "metadata": {},
   "outputs": [
    {
     "name": "stdout",
     "output_type": "stream",
     "text": [
      "안녕하세요! 저는 여러분을 도와드릴 수 있는 인공지능 도우미입니다. 무엇을 도와드릴까요?"
     ]
    }
   ],
   "source": [
    "prompt = \"안녕하세요\"\n",
    "response = request_chat_completion(prompt, stream=True)\n",
    "message = print_streaming_response_console(response)"
   ]
  },
  {
   "cell_type": "code",
   "execution_count": 4,
   "id": "45927902-8a92-438d-aaed-592859490996",
   "metadata": {},
   "outputs": [],
   "source": [
    "import requests\n",
    "from bs4 import BeautifulSoup\n",
    "\n",
    "def crawl_naver_entertainment(url):\n",
    "    response = requests.get(url)\n",
    "    soup = BeautifulSoup(response.text, \"lxml\")\n",
    "    article = soup.find(\"div\", class_=\"article_body\").text.strip()\n",
    "    return article"
   ]
  },
  {
   "cell_type": "code",
   "execution_count": 5,
   "id": "3306db32-f74b-4182-b02f-d2fd4c5c1376",
   "metadata": {},
   "outputs": [],
   "source": [
    "example_url = \"https://entertain.naver.com/read?oid=144&aid=0000917660\""
   ]
  },
  {
   "cell_type": "code",
   "execution_count": 6,
   "id": "a2f529a0-fc14-44d2-b2f7-cd7e80817534",
   "metadata": {},
   "outputs": [
    {
     "data": {
      "text/plain": [
       "'정국. 빅히트뮤직방탄소년단 정국이 미국 빌보드 차트를 강타했다.10일(현지시간) 미국 음악 전문 매체 빌보드가 발표한 최신 차트(10월 14일 자)에 따르면, 방탄소년단 정국의 두 번째 솔로 싱글 ‘3D (feat. Jack Harlow)’가 메인 송차트 ‘핫 100’에서 5위에 올랐다. 정국의 첫 번째 싱글 ‘Seven (feat. Latto)’은 57위로 12주 연속 ‘핫 100’ 차트인했다.특히, 정국은 지난해 슈가가 프로듀싱한 하이브 오리지널 스토리 ‘7FATES: CHAKHO’의 OST ‘Stay Alive’ (Prod. SUGA of BTS)’와 찰리 푸스와의 협업곡 ‘Lefe and Right’, 올해 ‘Seven’과 ‘3D’ 등 통산 4개의 솔로 곡을 ‘핫 100’에 올렸다. 정국은 특히, 한국 솔로 아티스트로는 최초로 두 개 이상의 노래를 공개와 동시에 이 차트의 ‘톱 5’에 진입시킨 가수가 됐다.‘3D’는 ‘디지털 송 세일즈’, ‘글로벌 200’, ‘글로벌(미국 제외)’에서 각각 1위에 올랐고, ‘스트리밍 송’ 12위, ‘팝 에어플레이’ 34위 등 여러 차트에 포진했다.‘Seven’도 꾸준히 인기몰이 중이다. 이 곡은 ‘글로벌(미국 제외)’ 2위, ‘글로벌 200’ 3위에 이름을 올리며 ‘3D’와 쌍끌이 흥행을 이끌고 있다.뷔의 솔로 앨범 ‘Layover’는 메인 앨범차트 ‘빌보드 200’에서 70위로 4주 연속 차트인한 것을 비롯해 ‘톱 커런트 앨범’ 6위, ‘톱 앨범 세일즈’ 10위에 올랐다. 이 앨범의 타이틀곡 ‘Slow Dancing’은 ‘글로벌(미국 제외)’ 20위, ‘글로벌 200’ 36위에 자리했다.지민 솔로 앨범 ‘FACE’의 타이틀곡 ‘Like Crazy’는 ‘글로벌(미국 제외)’ 48위, ‘글로벌 200’ 77위에 랭크됐으며, 제이홉의 솔로 앨범 ‘Jack In The Box’는 ‘톱 커런트 앨범’ 41위, ‘톱 앨범 세일즈’ 57위에 랭크됐다.김도곤 온라인기자 kim2010@kyunghyang.com'"
      ]
     },
     "execution_count": 6,
     "metadata": {},
     "output_type": "execute_result"
    }
   ],
   "source": [
    "crawl_naver_entertainment(example_url)"
   ]
  },
  {
   "cell_type": "markdown",
   "id": "16b416bc-0119-4331-865c-062ce3f31d87",
   "metadata": {},
   "source": [
    "## 프롬프트 엔지니어링"
   ]
  },
  {
   "cell_type": "code",
   "execution_count": 7,
   "id": "4c1ace41-1766-4f33-97b2-bd80ea65ff78",
   "metadata": {},
   "outputs": [],
   "source": [
    "prompt_template_v1 = \"\"\"\n",
    "최신 연예 뉴스 기사가 주어집니다.\n",
    "뉴스 기사를 참고해서 유튜브 쇼츠 대본을 작성해주세요.\n",
    "흥미롭고 자극적으로 작성해주세요.\n",
    "\n",
    "---\n",
    "뉴스기사: {article}\n",
    "---\n",
    "\"\"\".strip()"
   ]
  },
  {
   "cell_type": "code",
   "execution_count": 8,
   "id": "008f96d7-07b3-48c8-a1f7-0fa97506560f",
   "metadata": {},
   "outputs": [],
   "source": [
    "article = crawl_naver_entertainment(example_url)"
   ]
  },
  {
   "cell_type": "code",
   "execution_count": 9,
   "id": "5fb56089-291c-4650-8bd5-17a9be31886f",
   "metadata": {},
   "outputs": [],
   "source": [
    "prompt = prompt_template_v1.format(article=article)"
   ]
  },
  {
   "cell_type": "code",
   "execution_count": 10,
   "id": "fa980cb0-5eb6-4dbb-9e6f-a2067a7eb21e",
   "metadata": {},
   "outputs": [
    {
     "name": "stdout",
     "output_type": "stream",
     "text": [
      "최신 연예 뉴스 기사가 주어집니다.\n",
      "뉴스 기사를 참고해서 유튜브 쇼츠 대본을 작성해주세요.\n",
      "흥미롭고 자극적으로 작성해주세요.\n",
      "\n",
      "---\n",
      "뉴스기사: 정국. 빅히트뮤직방탄소년단 정국이 미국 빌보드 차트를 강타했다.10일(현지시간) 미국 음악 전문 매체 빌보드가 발표한 최신 차트(10월 14일 자)에 따르면, 방탄소년단 정국의 두 번째 솔로 싱글 ‘3D (feat. Jack Harlow)’가 메인 송차트 ‘핫 100’에서 5위에 올랐다. 정국의 첫 번째 싱글 ‘Seven (feat. Latto)’은 57위로 12주 연속 ‘핫 100’ 차트인했다.특히, 정국은 지난해 슈가가 프로듀싱한 하이브 오리지널 스토리 ‘7FATES: CHAKHO’의 OST ‘Stay Alive’ (Prod. SUGA of BTS)’와 찰리 푸스와의 협업곡 ‘Lefe and Right’, 올해 ‘Seven’과 ‘3D’ 등 통산 4개의 솔로 곡을 ‘핫 100’에 올렸다. 정국은 특히, 한국 솔로 아티스트로는 최초로 두 개 이상의 노래를 공개와 동시에 이 차트의 ‘톱 5’에 진입시킨 가수가 됐다.‘3D’는 ‘디지털 송 세일즈’, ‘글로벌 200’, ‘글로벌(미국 제외)’에서 각각 1위에 올랐고, ‘스트리밍 송’ 12위, ‘팝 에어플레이’ 34위 등 여러 차트에 포진했다.‘Seven’도 꾸준히 인기몰이 중이다. 이 곡은 ‘글로벌(미국 제외)’ 2위, ‘글로벌 200’ 3위에 이름을 올리며 ‘3D’와 쌍끌이 흥행을 이끌고 있다.뷔의 솔로 앨범 ‘Layover’는 메인 앨범차트 ‘빌보드 200’에서 70위로 4주 연속 차트인한 것을 비롯해 ‘톱 커런트 앨범’ 6위, ‘톱 앨범 세일즈’ 10위에 올랐다. 이 앨범의 타이틀곡 ‘Slow Dancing’은 ‘글로벌(미국 제외)’ 20위, ‘글로벌 200’ 36위에 자리했다.지민 솔로 앨범 ‘FACE’의 타이틀곡 ‘Like Crazy’는 ‘글로벌(미국 제외)’ 48위, ‘글로벌 200’ 77위에 랭크됐으며, 제이홉의 솔로 앨범 ‘Jack In The Box’는 ‘톱 커런트 앨범’ 41위, ‘톱 앨범 세일즈’ 57위에 랭크됐다.김도곤 온라인기자 kim2010@kyunghyang.com\n",
      "---\n"
     ]
    }
   ],
   "source": [
    "print(prompt)"
   ]
  },
  {
   "cell_type": "code",
   "execution_count": 11,
   "id": "c96e0e54-e6b4-425b-aef7-fe630906faed",
   "metadata": {},
   "outputs": [
    {
     "name": "stdout",
     "output_type": "stream",
     "text": [
      "[유튜브 쇼츠 대본]\n",
      "\n",
      "***히트 차트 접수! 방탄소년단 정국이 화제의 인터뷰에 등장했습니다!***\n",
      "\n",
      "[올린이]\n",
      "안녕하세요, 여러분! 오늘은 빅히트뮤직의 보석 같은 멤버, 방탄소년단 정국에 대해 알아보려고 합니다! 정국이 최근에 어떤 주목할만한 일을 했는지 궁금하시죠? 네, 그렇다면 함께 뉴스 기사 내용을 확인해볼까요?\n",
      "\n",
      "[뉴스 기사 내용]\n",
      "정국이 미국의 전설적인 음악 차트인 빌보드를 강타했습니다! 그의 두 번째 솔로 싱글인 '3D (feat. Jack Harlow)'가 최신 차트에서 핫 100에서 5위를 차지했습니다. 정국은 이 뿐만 아니라 이전에도 다른 솔로 곡들인 'Seven (feat. Latto)'과 'Stay Alive' (Prod. SUGA of BTS)', 'Lefe and Right'를 핫 100에 올렸습니다. 정말 대단하지 않나요? \n",
      "\n",
      "[올린이]\n",
      "정말 대단한 업적이죠! 정국은 한국 솔로 아티스트로는 최초로 최소 두 곡 이상을 동시에 핫 100 차트의 톱 5에 오른 가수가 되었습니다. 이렇게 유명한 차트에 매번 랭크되는 것은 실력이 있기 때문인 거죠!\n",
      "\n",
      "[뉴스 기사 내용]\n",
      "'3D'는 다양한 차트에서 1위에 오르기도 했습니다. '디지털 송 세일즈', '글로벌 200', '글로벌(미국 제외)'에서 각각 1위를 차지하며 주목을 받았습니다. 게다가 '스트리밍 송'에서는 12위, '팝 에어플레이'에서는 34위까지 오르는 등 많은 차트에서 높은 순위를 기록했답니다. 이렇게 다양한 차트에서 흥행한 곡인 만큼, 정말 보지 않을 수 없는 곡이란 거죠!\n",
      "\n",
      "[뉴스 기사 내용]\n",
      "뷔의 솔로 앨범 'Layover'도 빌보드 차트에서 자리를 잡았습니다. 메인 앨범차트인 '빌보드 200'에서는 70위에 올랐으며, '톱 커런트 앨범' 6위, '톱 앨범 세일즈' 10위에도 이름을 올리는 등 큰 호응을 받았습니다. 이렇게 또 다른 멤버들도 솔로로써 차트에서 활약하고 있는 거네요!\n",
      "\n",
      "[뉴스 기사 내용]\n",
      "마지막으로, 지민과 제이홉의 솔로 앨범도 결과를 거두었습니다. 지민의 솔로 앨범 'FACE'에서는 타이틀곡인 'Like Crazy'가 '글로벌(미국 제외)' 48위, '글로벌 200' 77위에 순위를 올렸습니다. 제이홉의 솔로 앨범 'Jack In The Box'는 '톱 커런트 앨범' 41위, '톱 앨범 세일즈' 57위에 랭크되었답니다. 이렇게 멤버들이 각자의 개성을 표현하는 솔로 활동에서도 수많은 팬들에게 사랑을 받고 있다는 걸 알 수 있습니다.\n",
      "\n",
      "[올린이]\n",
      "와우! 방탄소년단 정국과 다른 멤버들의 솔로 활약이 정말 대단하네요! 이렇게 많은 차트에서 상위권을 차지하며 성공을 거두는 것은 정말 어려운 일이죠. 정국을 비롯한 방탄소년단 멤버들은 진정한 음악 재능의 소유자라고 말할 수 있겠습니다!\n",
      "\n",
      "[올린이]\n",
      "오늘은 방탄소년단 정국의 미국 빌보드 차트 강타 소식을 알려드렸습니다. 정말 멋지지 않나요? 저는 정말 기뻐서 기쁜 소식을 전하고 싶었어요! 정국과 방탄소년단 멤버들의 앞으로의 성공을 응원하며, 여기서 오늘의 소식은 마치도록 하겠습니다. 다음에 또 만나요!\n",
      "\n",
      "[엔딩 멘트]\n",
      "히트 차트에 오르는 방탄소년단에 대한 소식을 전해드리기 위해 노력한 저희 쇼를 시청해주셔서 감사합니다. 더 많은 흥미로운 소식과 다양한 컨텐츠로 여러분에게 찾아갈 수 있도록 노력하겠습니다. 다음 에피소드에서 뵙겠습니다. 안녕히 계세요!"
     ]
    }
   ],
   "source": [
    "response = request_chat_completion(prompt, stream=True)\n",
    "message = print_streaming_response_console(response)"
   ]
  },
  {
   "cell_type": "markdown",
   "id": "ffbc7df1-e167-4f04-b7d6-649589d78d00",
   "metadata": {},
   "source": [
    "## 포맷 제한"
   ]
  },
  {
   "cell_type": "code",
   "execution_count": 12,
   "id": "5d04369c-00f6-4c72-b15c-ea492630ab54",
   "metadata": {},
   "outputs": [],
   "source": [
    "prompt_template_v2 = \"\"\"\n",
    "최신 연예 뉴스 기사가 주어집니다.\n",
    "뉴스 기사를 참고해서 유튜브 쇼츠 대본을 작성해주세요.\n",
    "흥미롭고 자극적으로 작성해주세요.\n",
    "\n",
    "아래 포맷으로 작성해주세요.\n",
    "[제목]<제목 텍스트>\\n\\n\n",
    "[클립]<영상에서 보여줄 이미지나 영상에 대한 묘사>\\n\n",
    "[대본]<나레이션 방식의 대본>\\n\n",
    "[클립]<영상에서 보여줄 이미지나 영상에 대한 묘사>\\n\n",
    "[대본]<나레이션 방식의 대본>\\n\n",
    "...\n",
    "---\n",
    "뉴스기사: {article}\n",
    "---\n",
    "\"\"\".strip()"
   ]
  },
  {
   "cell_type": "code",
   "execution_count": 13,
   "id": "7d9a8a76-9842-4c8d-bd8c-a1d885d0de77",
   "metadata": {},
   "outputs": [],
   "source": [
    "prompt = prompt_template_v2.format(article=article)"
   ]
  },
  {
   "cell_type": "code",
   "execution_count": 14,
   "id": "1e06f3d1-c098-4fbb-9207-9afb70aba16b",
   "metadata": {},
   "outputs": [
    {
     "name": "stdout",
     "output_type": "stream",
     "text": [
      "[제목]<정국, 방탄소년단으로 빌보드 차트 5위 진입!>\n",
      "\n",
      "[클립]<정국이 마이크를 들고 화려한 무대 위에서 노래 부를 모습>\n",
      "\n",
      "[대본]안녕하세요! 여러분, 오늘은 굉장한 소식과 함께 찾아왔습니다. 방탄소년단의 멤버인 정국이 최신 솔로 싱글 '3D (feat. Jack Harlow)'로 미국 빌보드 차트에 5위를 차지했습니다! 이로써 정국은 핫 100 차트에서 한 발짝 더 다가왔습니다. 그의 첫 번째 싱글 'Seven (feat. Latto)'도 57위로 12주 연속 차트인한 것은 놓치지 않았을 것입니다.\n",
      "\n",
      "하지만 이게 전부가 아닙니다. 정국은 이미 슈가가 프로듀싱한 '7FATES: CHAKHO'의 OST 'Stay Alive'와 찰리 푸스와의 협업곡 'Left and Right', 그리고 이번 'Seven'과 '3D'를 포함하여 총 4개의 솔로 곡을 핫 100에 올렸습니다. 이는 한국 솔로 아티스트로는 최초로 두 개 이상의 노래를 동시에 톱 5에 올린 가수로 기록되었답니다.\n",
      "\n",
      "'3D'는 디지털 송 세일즈, 글로벌 200, 그리고 글로벌(미국 제외)에서 모두 1위를 차지했고, 스트리밍 송에서는 12위, 팝 에어플레이에서는 34위에 랭크되었습니다. 또한, 'Seven'은 글로벌(미국 제외) 2위와 글로벌 200 3위에 이름을 올리며, '3D'와 함께 두 곡이 흥행을 이끌고 있다고 할 수 있습니다.\n",
      "\n",
      "하지마일 뿐만 아니라 다른 멤버들의 솔로 활동도 인기를 모으고 있습니다. 뷔의 솔로 앨범 'Layover'는 빌보드 200에서 70위로 4주 연속 차트인을 달성했으며, 톱 커런트 앨범에서는 6위, 톱 앨범 세일즈에서는 10위에 올랐습니다. 앨범의 타이틀곡 'Slow Dancing'은 글로벌(미국 제외)에서 20위, 글로벌 200에서 36위에 랭크되었습니다.\n",
      "\n",
      "지민의 솔로 앨범 'FACE'의 타이틀곡 'Like Crazy'는 글로벌(미국 제외) 48위, 글로벌 200 77위에 이름을 올렸고, 제이홉의 솔로 앨범 'Jack In The Box'는 톱 커런트 앨범에서 41위, 톱 앨범 세일즈에서 57위에 랭크되었습니다.\n",
      "\n",
      "정말 대단한 멤버들이죠? 방탄소년단의 멤버들의 그 어마어마한 성과와 재능은 우리를 항상 놀라게 만듭니다. 앞으로도 더욱 기대가 됩니다! 계속해서 저희 유튜브 채널에서 방탄소년단의 소식을 확인해보세요!\n",
      "\n",
      "[클립]<방탄소년단의 멤버들과 정국이 함께 웃고 있는 모습을 보여주는 영상>\n",
      "\n",
      "[대본]오늘도 방탄소년단의 멤버들과 함께한 유튜브 쇼츠였습니다. 앞으로도 계속해서 즐거운 소식을 전해드릴테니 많은 기대 부탁드립니다! 여러분들의 사랑과 관심, 그리고 응원에 항상 감사드리며, 다음 영상에서 만나요! 감사합니다."
     ]
    }
   ],
   "source": [
    "response = request_chat_completion(prompt, stream=True)\n",
    "message = print_streaming_response_console(response)"
   ]
  },
  {
   "cell_type": "markdown",
   "id": "f1e690ad-7591-4979-bb13-a52d13255def",
   "metadata": {},
   "source": [
    "## 말투 적용"
   ]
  },
  {
   "cell_type": "code",
   "execution_count": 15,
   "id": "1b27c5ed-d63a-43fd-836c-2d333ad8a933",
   "metadata": {},
   "outputs": [],
   "source": [
    "prompt_template_v3 = \"\"\"\n",
    "최신 연예 뉴스 기사가 주어집니다.\n",
    "뉴스 기사를 참고해서 유튜브 쇼츠 대본을 작성해주세요.\n",
    "흥미롭고 자극적으로 작성해주세요.\n",
    "10대 소녀가 친구에게 말하는 듯한 말투로 작성해주세요.\n",
    "\n",
    "아래 포맷으로 작성해주세요.\n",
    "[제목]<제목 텍스트>\\n\\n\n",
    "[클립]<영상에서 보여줄 이미지나 영상에 대한 묘사>\\n\n",
    "[대본]<나레이션 방식의 대본>\\n\n",
    "[클립]<영상에서 보여줄 이미지나 영상에 대한 묘사>\\n\n",
    "[대본]<나레이션 방식의 대본>\\n\n",
    "...\n",
    "---\n",
    "뉴스기사: {article}\n",
    "---\n",
    "\"\"\".strip()"
   ]
  },
  {
   "cell_type": "code",
   "execution_count": 17,
   "id": "7f037586-fef6-43d6-b35f-c52978f90001",
   "metadata": {},
   "outputs": [],
   "source": [
    "prompt = prompt_template_v3.format(article=article)"
   ]
  },
  {
   "cell_type": "code",
   "execution_count": 18,
   "id": "01f855fd-192a-4e3d-883b-a2bffa2305b8",
   "metadata": {},
   "outputs": [
    {
     "name": "stdout",
     "output_type": "stream",
     "text": [
      "[제목]<방탄소년단 정국, 미국 빌보드 차트 강타!>\n",
      "\n",
      "[클립]<정국이 마이크를 들고 흥겨운 무대에서 노래를 부르는 모습>\n",
      "\n",
      "[대본]<안녕! 오늘은 정국에 대한 소식이야! 정규 미니앨범이 나왔다면서, 미국 빌보드 차트에서도 꽤 성과를 거두고 있단다! 우와~ 정말 대단해! 최근에 발표된 차트에 따르면, 정국의 두 번째 솔로 싱글 '3D'가 메인 송차트 '핫 100'에서 5위에 올랐대. 또, 그 전 싱글 'Seven'도 57위로 12주 연속 차트인 중이래. 이런 식으로 솔로 아티스트로는 최초로 2개 이상의 노래를 공개와 동시에 '핫 100'에 진입시킨 거라는데, 다른 한국 아티스트들에게도 좋은 동기부여가 되지 않을까 싶네! 정국, 너무 멋있어~\n",
      "\n",
      "정국은 또한 다른 차트에서도 잘 나가고 있어! 그의 싱글 '3D'는 '디지털 송 세일즈', '글로벌 200', '글로벌(미국 제외)'에서 1위를 차지했고, '스트리밍 송'에서는 12위, '팝 에어플레이'에서는 34위에 올랐대. 그리고 'Seven'도 '글로벌(미국 제외)'에서 2위, '글로벌 200'에서 3위에 랭크돼 있어. 진짜 대박이야~\n",
      "\n",
      "오늘은 정국 뿐만 아니라 다른 멤버들의 솔로 앨범도 소개해줄까? 뷔의 솔로 앨범 'Layover'도 '빌보드 200'에서 70위에 차트인 했어! 그리고 '톱 커런트 앨범'에서는 6위, '톱 앨범 세일즈'에서는 10위에 올랐대. 타이틀곡 'Slow Dancing'은 '글로벌(미국 제외)'에서 20위, '글로벌 200'에서 36위에 위치해 있지!\n",
      "\n",
      "지민의 솔로 앨범 'FACE'의 타이틀곡 'Like Crazy'도 꽤 좋은 성적을 내고 있어! '글로벌(미국 제외)'에서 48위, '글로벌 200'에서 77위에 차트인하고 있대. 그리고 제이홉의 솔로 앨범 'Jack In The Box'도 '톱 커런트 앨범'에서 41위, '톱 앨범 세일즈'에서 57위에 랭크돼 있어!\n",
      "\n",
      "와우, 정말 방탄소년단 멤버들이 하나하나 대단하다니까! 더 잘 나가길 바라며, 건강하게 활동하고 성장하는 모습을 지켜보기를 기대해봐! 사랑해! 정말 최고야!\n",
      "---\n",
      "\n",
      "이렇게 작성해서 유튜브 쇼츠에 제출하면 흥미롭고 자극적인 동영상 콘텐츠가 완성될 것입니다. 10대 소녀의 말투로 작성한 대본으로, 많은 관심과 시청자들의 사랑을 받을 수 있을 것입니다."
     ]
    }
   ],
   "source": [
    "response = request_chat_completion(prompt, stream=True)\n",
    "message = print_streaming_response_console(response)"
   ]
  },
  {
   "cell_type": "markdown",
   "id": "6b22a55d-e155-41e9-9760-f51a6df56280",
   "metadata": {},
   "source": [
    "## 대본 파싱"
   ]
  },
  {
   "cell_type": "code",
   "execution_count": 28,
   "id": "e1a1654e-960d-4a81-b338-4c0ab0855ab6",
   "metadata": {},
   "outputs": [],
   "source": [
    "scripts = [x.replace(\"[대본]\", \"\").strip() for x in message.split(\"\\n\") if x.startswith(\"[대본]\")]"
   ]
  },
  {
   "cell_type": "code",
   "execution_count": 29,
   "id": "4abf1248-eaaf-4a98-94f0-b0688571ddc4",
   "metadata": {},
   "outputs": [
    {
     "name": "stdout",
     "output_type": "stream",
     "text": [
      "[\"<안녕! 오늘은 정국에 대한 소식이야! 정규 미니앨범이 나왔다면서, 미국 빌보드 차트에서도 꽤 성과를 거두고 있단다! 우와~ 정말 대단해! 최근에 발표된 차트에 따르면, 정국의 두 번째 솔로 싱글 '3D'가 메인 송차트 '핫 100'에서 5위에 올랐대. 또, 그 전 싱글 'Seven'도 57위로 12주 연속 차트인 중이래. 이런 식으로 솔로 아티스트로는 최초로 2개 이상의 노래를 공개와 동시에 '핫 100'에 진입시킨 거라는데, 다른 한국 아티스트들에게도 좋은 동기부여가 되지 않을까 싶네! 정국, 너무 멋있어~\"]\n"
     ]
    }
   ],
   "source": [
    "print(scripts)"
   ]
  },
  {
   "cell_type": "code",
   "execution_count": null,
   "id": "fbc7ce76-aea7-46fe-994b-b2aa23a2cb90",
   "metadata": {},
   "outputs": [],
   "source": []
  }
 ],
 "metadata": {
  "kernelspec": {
   "display_name": "Python 3 (ipykernel)",
   "language": "python",
   "name": "python3"
  },
  "language_info": {
   "codemirror_mode": {
    "name": "ipython",
    "version": 3
   },
   "file_extension": ".py",
   "mimetype": "text/x-python",
   "name": "python",
   "nbconvert_exporter": "python",
   "pygments_lexer": "ipython3",
   "version": "3.12.1"
  }
 },
 "nbformat": 4,
 "nbformat_minor": 5
}
