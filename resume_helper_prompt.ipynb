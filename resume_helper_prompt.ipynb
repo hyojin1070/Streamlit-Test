{
 "cells": [
  {
   "cell_type": "code",
   "execution_count": 1,
   "id": "f0097932-b7ac-4c40-93c9-50e7a0cb4fe7",
   "metadata": {},
   "outputs": [],
   "source": [
    "from common import request_chat_completion, print_streaming_response_console"
   ]
  },
  {
   "cell_type": "code",
   "execution_count": 2,
   "id": "573f7dd0-6705-48f2-ab63-31fee893206e",
   "metadata": {},
   "outputs": [
    {
     "name": "stdout",
     "output_type": "stream",
     "text": [
      "안녕하세요! 도움이 필요하신가요? 무엇을 도와드릴까요?"
     ]
    }
   ],
   "source": [
    "prompt = \"안녕하세요!\"\n",
    "response = request_chat_completion(prompt, stream=True)\n",
    "message = print_streaming_response_console(response)"
   ]
  },
  {
   "cell_type": "markdown",
   "id": "83b11dd7-ed2a-4e35-84cb-eeff73b0c3fa",
   "metadata": {},
   "source": [
    "## 프롬프트 템플릿"
   ]
  },
  {
   "cell_type": "code",
   "execution_count": 3,
   "id": "319113b7-cee4-4936-847b-b0243e5a993e",
   "metadata": {},
   "outputs": [],
   "source": [
    "prompt_template_v1 = \"\"\"\n",
    "기업 입사용 자기소개서를 작성해야 합니다.\n",
    "답변해야하는 질문과 이에 관련된 유저의 경험을 참고하여 자기소개서를 작성해주세요.\n",
    "반드시 {max_length} 자 이내로 작성해야 합니다.\n",
    "\n",
    "---\n",
    "지원 회사: {company}\n",
    "지원 직무: {position}\n",
    "질문: {question}\n",
    "관련 경험: {experience}\n",
    "---\n",
    "\"\"\".strip()"
   ]
  },
  {
   "cell_type": "code",
   "execution_count": 4,
   "id": "d73699c6-8ed4-461b-936f-b2b801c4502d",
   "metadata": {},
   "outputs": [],
   "source": [
    "example = {\n",
    "    \"company\": \"LG uplus\",\n",
    "    \"position\": \"기업부문 B2B 국내영업\",\n",
    "    \"max_length\": 500,\n",
    "    \"question\": \"소속된 조직의 공동과업을 달성하는 과정에서 발생했던 어려움과 그 어려움을 극복하기 위해 기울인 노력에 대해 구체적인 사례를 바탕으로 기술해 주십시오.\",\n",
    "    \"experience\": \"대학교 3학년 때 축구부 주장 역임.\\n총장배 대회 우승이라는 공동의 목표로 함께 노력.\\n주전 선수진 부상으로 어려움 겪었으나, 극복하고 8강 진출이라는 성과 달성\"\n",
    "}"
   ]
  },
  {
   "cell_type": "code",
   "execution_count": 5,
   "id": "9954045b-15e1-4f0d-8f02-5642ea7f8c8f",
   "metadata": {},
   "outputs": [],
   "source": [
    "prompt = prompt_template_v1.format(\n",
    "    company=example[\"company\"],\n",
    "    position=example[\"position\"],\n",
    "    max_length=example[\"max_length\"],\n",
    "    question=example[\"question\"],\n",
    "    experience=example[\"experience\"]\n",
    ")"
   ]
  },
  {
   "cell_type": "code",
   "execution_count": 6,
   "id": "222eab5a-5955-43ce-bacf-233607eb2fd7",
   "metadata": {},
   "outputs": [
    {
     "name": "stdout",
     "output_type": "stream",
     "text": [
      "기업 입사용 자기소개서를 작성해야 합니다.\n",
      "답변해야하는 질문과 이에 관련된 유저의 경험을 참고하여 자기소개서를 작성해주세요.\n",
      "반드시 500 자 이내로 작성해야 합니다.\n",
      "\n",
      "---\n",
      "지원 회사: LG uplus\n",
      "지원 직무: 기업부문 B2B 국내영업\n",
      "질문: 소속된 조직의 공동과업을 달성하는 과정에서 발생했던 어려움과 그 어려움을 극복하기 위해 기울인 노력에 대해 구체적인 사례를 바탕으로 기술해 주십시오.\n",
      "관련 경험: 대학교 3학년 때 축구부 주장 역임.\n",
      "총장배 대회 우승이라는 공동의 목표로 함께 노력.\n",
      "주전 선수진 부상으로 어려움 겪었으나, 극복하고 8강 진출이라는 성과 달성\n",
      "---\n"
     ]
    }
   ],
   "source": [
    "print(prompt)"
   ]
  },
  {
   "cell_type": "code",
   "execution_count": 7,
   "id": "48222d43-8aab-4a2c-bb02-6034e1e9b6c8",
   "metadata": {},
   "outputs": [
    {
     "name": "stdout",
     "output_type": "stream",
     "text": [
      "저는 LG uplus의 B2B 국내영업 부문에 지원하고자 합니다. 소속된 조직의 공동과업을 달성하는 과정에서 발생한 어려움과 그 어려움을 극복하기 위해 기울인 노력을 구체적인 사례를 통해 소개하겠습니다.\n",
      "\n",
      "대학교 3학년 때 제가 주장으로서 축구부에 소속되어 있었습니다. 그리고 저희 팀은 총장배 대회에서 우승하는 것을 공동의 목표로 삼고 함께 노력했습니다. 하지만 경기 중 주전 선수진 중 한 명이 부상을 당하여 어려움을 겪게 되었습니다.\n",
      "\n",
      "주전 선수진의 부상은 팀의 역동성과 전략적인 배치에 큰 영향을 미칠 것 같았습니다. 이에 저는 소속된 조직 멤버들과 함께 의견을 나누며 어떻게 이 상황을 극복할 수 있을지 논의를 진행했습니다. 저희는 기존 전략을 수정하고 다른 선수들에게 부상자의 역할을 대체할 수 있도록 조정하는 방향으로 의사결정을 내렸습니다.\n",
      "\n",
      "또한 저는 부상자와 함께 운동재활에 모든 지원을 다하며 그의 회복을 도왔습니다. 각자의 역할을 충실히 수행하는 동시에 팀 내 분위기를 부상자를 인정하고 격려함으로써 긍정적인 에너지를 전달했습니다. 운동재활 과정에서는 선수가 되기 위해 부상자와 함께 노력하였고, 저희 팀은 재능과 노력이 결합된 결과로 성장할 수 있었습니다.\n",
      "\n",
      "결과적으로, 저희 팀은 거의 합을 차지한 선수진의 부상에도 불구하고 총장배 대회에서 8강에 진출하는 성과를 달성할 수 있었습니다. 이 경험은 공동의 목표를 달성하기 위해 어려움을 극복하는 과정에서 팀원들과의 협력, 의사소통, 창의적 문제해결 능력을 키우는 기회였습니다. 이러한 경험을 토대로 LG uplus의 B2B 국내영업 부문에서도 팀원들과의 협업을 통해 어려움을 극복하고 성과를 이루어낼 자신이 있습니다."
     ]
    }
   ],
   "source": [
    "response = request_chat_completion(prompt, stream=True)\n",
    "message = print_streaming_response_console(response)"
   ]
  },
  {
   "cell_type": "code",
   "execution_count": 8,
   "id": "e9f5d0a3-061e-47a5-9e86-eb10cc7c6084",
   "metadata": {},
   "outputs": [
    {
     "data": {
      "text/plain": [
       "834"
      ]
     },
     "execution_count": 8,
     "metadata": {},
     "output_type": "execute_result"
    }
   ],
   "source": [
    "len(message)"
   ]
  },
  {
   "cell_type": "markdown",
   "id": "41c96132-fcff-4b84-b079-a31b9ae2d2fc",
   "metadata": {},
   "source": [
    "## 글자 수 제한"
   ]
  },
  {
   "cell_type": "code",
   "execution_count": 9,
   "id": "7c5f8a4e-bd8d-49d8-950d-ded629f9ce88",
   "metadata": {},
   "outputs": [],
   "source": [
    "prompt_template_v2 = \"\"\"\n",
    "기업 입사용 자기소개서를 작성해야 합니다.\n",
    "답변해야하는 질문과 이에 관련된 유저의 경험을 참고하여 자기소개서를 작성해주세요.\n",
    "반드시 {max_length} 단어 이내로 작성해야 합니다.\n",
    "\n",
    "---\n",
    "지원 회사: {company}\n",
    "지원 직무: {position} \n",
    "질문: {question}\n",
    "관련 경험: {experience}\n",
    "---\n",
    "\"\"\".strip()"
   ]
  },
  {
   "cell_type": "code",
   "execution_count": 10,
   "id": "2f53e6ef-33f3-45af-8cb8-40df3c518067",
   "metadata": {},
   "outputs": [],
   "source": [
    "prompt = prompt_template_v2.format(\n",
    "    company=example[\"company\"],\n",
    "    position=example[\"position\"],\n",
    "    max_length=example[\"max_length\"] // 6,\n",
    "    question=example[\"question\"],\n",
    "    experience=example[\"experience\"]\n",
    ")"
   ]
  },
  {
   "cell_type": "code",
   "execution_count": 11,
   "id": "d89e8d7b-ecd5-4bd0-9bee-66f25decf513",
   "metadata": {},
   "outputs": [
    {
     "name": "stdout",
     "output_type": "stream",
     "text": [
      "기업 입사용 자기소개서를 작성해야 합니다.\n",
      "답변해야하는 질문과 이에 관련된 유저의 경험을 참고하여 자기소개서를 작성해주세요.\n",
      "반드시 83 단어 이내로 작성해야 합니다.\n",
      "\n",
      "---\n",
      "지원 회사: LG uplus\n",
      "지원 직무: 기업부문 B2B 국내영업 \n",
      "질문: 소속된 조직의 공동과업을 달성하는 과정에서 발생했던 어려움과 그 어려움을 극복하기 위해 기울인 노력에 대해 구체적인 사례를 바탕으로 기술해 주십시오.\n",
      "관련 경험: 대학교 3학년 때 축구부 주장 역임.\n",
      "총장배 대회 우승이라는 공동의 목표로 함께 노력.\n",
      "주전 선수진 부상으로 어려움 겪었으나, 극복하고 8강 진출이라는 성과 달성\n",
      "---\n"
     ]
    }
   ],
   "source": [
    "print(prompt)"
   ]
  },
  {
   "cell_type": "code",
   "execution_count": 12,
   "id": "350220f2-f460-40b9-9d92-580270d8182c",
   "metadata": {},
   "outputs": [
    {
     "name": "stdout",
     "output_type": "stream",
     "text": [
      "저는 LG Uplus의 기업부문 B2B 국내영업 직무에 지원하고 있습니다. 소속된 조직의 공동과업을 달성하는 과정에서 저에게는 총장배 대회에서 축구부 주장으로 활동한 대학교 3학년 때의 경험이 있습니다. 함께 우승을 목표로 팀원들과 노력했으나, 주전 선수진의 부상으로 어려움을 겪었습니다. 하지만 저는 힘들더라도 포기하지 않고, 병원 방문과 부상자들과 함께 훈련하는 등의 노력을 기울였습니다. 결국, 저희 팀은 8강 진출이라는 성과를 이뤄냈습니다. 이 경험은 고객과의 협업에도 도움이 된다고 생각하며, 어려움을 극복하기 위해 노력하는 저의 모습을 보여주고 싶습니다."
     ]
    }
   ],
   "source": [
    "response = request_chat_completion(prompt, stream=True)\n",
    "message = print_streaming_response_console(response)"
   ]
  },
  {
   "cell_type": "code",
   "execution_count": 14,
   "id": "28fd6409-e944-458c-b4a7-7e77c6be7041",
   "metadata": {},
   "outputs": [
    {
     "data": {
      "text/plain": [
       "316"
      ]
     },
     "execution_count": 14,
     "metadata": {},
     "output_type": "execute_result"
    }
   ],
   "source": [
    "len(message)"
   ]
  },
  {
   "cell_type": "markdown",
   "id": "eabbe9e2-58ae-4acb-8723-ecfcdb8dc3fe",
   "metadata": {},
   "source": [
    "## 소제목 추가"
   ]
  },
  {
   "cell_type": "code",
   "execution_count": 21,
   "id": "5947f2be-2baf-4e20-82cc-9e1e92cf035a",
   "metadata": {},
   "outputs": [],
   "source": [
    "prompt_template_v3 = \"\"\"\n",
    "기업 입사용 자기소개서를 작성해야 합니다.\n",
    "답변해야하는 질문과 이에 관련된 유저의 경험을 참고하여 자기소개서를 작성해주세요.\n",
    "반드시 {max_length} 단어 이내로 작성해야 합니다.\n",
    "각 단락마다 소제목을 넣어주세요.\n",
    "\n",
    "---\n",
    "지원 회사: {company}\n",
    "지원 직무: {position} \n",
    "질문: {question}\n",
    "관련 경험: {experience}\n",
    "---\n",
    "\"\"\".strip()"
   ]
  },
  {
   "cell_type": "code",
   "execution_count": 22,
   "id": "68efc77b-1350-4ed1-a1c5-4c4e18450026",
   "metadata": {},
   "outputs": [],
   "source": [
    "prompt = prompt_template_v3.format(\n",
    "    company=example[\"company\"],\n",
    "    position=example[\"position\"],\n",
    "    max_length=example[\"max_length\"] // 6,\n",
    "    question=example[\"question\"],\n",
    "    experience=example[\"experience\"]\n",
    ")"
   ]
  },
  {
   "cell_type": "code",
   "execution_count": 23,
   "id": "16cf54a1-58ee-4263-b632-51f246c750b6",
   "metadata": {},
   "outputs": [
    {
     "name": "stdout",
     "output_type": "stream",
     "text": [
      "강팀의 상생: 어려움을 극복한 경험\n",
      "\n",
      "소속된 조직의 공동과업을 달성하기 위해 어려움을 극복한 일이 있었습니다. 대학교 3학년 때 축구부 주장으로 활동하며, 총장배 대회에서 우승이라는 공동의 목표를 향해 팀원들과 함께 노력했습니다.\n",
      "\n",
      "잠시 흩어지는 팀 정체성에 힘들어했던 때가 있었습니다. 주전 선수진 부상으로 인해 팀 복귀가 현격히 늦어진 상황에서 우리는 진정한 팀워크를 통해 어려움을 극복하고자 했습니다. 저는 다른 팀원들과 소통을 통해 부상자들의 상황을 이해하고, 기회가 되는 한 함께 훈련에 참여하며 동료들에게 긍정적인 에너지를 전달하려 노력했습니다.\n",
      "\n",
      "결과적으로 우리는 8강까지 진출하여 성과를 달성했습니다. 이 경험을 통해 팀워크와 리더십의 중요성을 깨달았고, 그 과정에서 자신의 역할을 잘 해내는 것이 어려움을 극복하고 성공을 이끌어낸다는 것을 알게 되었습니다.\n",
      "\n",
      "이러한 경험으로부터 제가 어려운 상황에서도 팀원들과 협력하며 목표를 달성하기 위해 항상 노력하고, 긍정적인 에너지를 전달할 것입니다. LG uplus의 B2B 국내영업 직무에서도 팀의 협업과 성과 달성에 앞장서기 위해 노력할 것을 약속드립니다."
     ]
    }
   ],
   "source": [
    "response = request_chat_completion(prompt, stream=True)\n",
    "message = print_streaming_response_console(response)"
   ]
  },
  {
   "cell_type": "code",
   "execution_count": 24,
   "id": "bf8acf3d-4ba6-4042-9508-b6a9fd845793",
   "metadata": {},
   "outputs": [
    {
     "data": {
      "text/plain": [
       "570"
      ]
     },
     "execution_count": 24,
     "metadata": {},
     "output_type": "execute_result"
    }
   ],
   "source": [
    "len(message)"
   ]
  },
  {
   "cell_type": "code",
   "execution_count": null,
   "id": "e9034e01-82dd-46b8-9c05-140752bd4334",
   "metadata": {},
   "outputs": [],
   "source": [
    " "
   ]
  }
 ],
 "metadata": {
  "kernelspec": {
   "display_name": "Python 3 (ipykernel)",
   "language": "python",
   "name": "python3"
  },
  "language_info": {
   "codemirror_mode": {
    "name": "ipython",
    "version": 3
   },
   "file_extension": ".py",
   "mimetype": "text/x-python",
   "name": "python",
   "nbconvert_exporter": "python",
   "pygments_lexer": "ipython3",
   "version": "3.12.1"
  }
 },
 "nbformat": 4,
 "nbformat_minor": 5
}
