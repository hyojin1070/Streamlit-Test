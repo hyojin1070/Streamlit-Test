{
 "cells": [
  {
   "cell_type": "markdown",
   "id": "8dca840a-2031-4aa2-b006-9937ff687edc",
   "metadata": {},
   "source": [
    "## 의존성 설치"
   ]
  },
  {
   "cell_type": "code",
   "execution_count": 1,
   "id": "e6628ebe-cd14-4dce-8239-76ff26c9ac5d",
   "metadata": {},
   "outputs": [
    {
     "name": "stdout",
     "output_type": "stream",
     "text": [
      "Requirement already satisfied: requests in c:\\users\\littlefox\\appdata\\local\\programs\\python\\python312\\lib\\site-packages (2.31.0)\n",
      "Requirement already satisfied: beautifulsoup4 in c:\\users\\littlefox\\appdata\\local\\programs\\python\\python312\\lib\\site-packages (4.12.2)\n",
      "Collecting lxml\n",
      "  Downloading lxml-5.1.0-cp312-cp312-win_amd64.whl.metadata (3.6 kB)\n",
      "Requirement already satisfied: charset-normalizer<4,>=2 in c:\\users\\littlefox\\appdata\\local\\programs\\python\\python312\\lib\\site-packages (from requests) (3.3.2)\n",
      "Requirement already satisfied: idna<4,>=2.5 in c:\\users\\littlefox\\appdata\\local\\programs\\python\\python312\\lib\\site-packages (from requests) (3.6)\n",
      "Requirement already satisfied: urllib3<3,>=1.21.1 in c:\\users\\littlefox\\appdata\\local\\programs\\python\\python312\\lib\\site-packages (from requests) (2.1.0)\n",
      "Requirement already satisfied: certifi>=2017.4.17 in c:\\users\\littlefox\\appdata\\local\\programs\\python\\python312\\lib\\site-packages (from requests) (2023.11.17)\n",
      "Requirement already satisfied: soupsieve>1.2 in c:\\users\\littlefox\\appdata\\local\\programs\\python\\python312\\lib\\site-packages (from beautifulsoup4) (2.5)\n",
      "Downloading lxml-5.1.0-cp312-cp312-win_amd64.whl (3.9 MB)\n",
      "   ---------------------------------------- 0.0/3.9 MB ? eta -:--:--\n",
      "   ---------------------------------------- 0.0/3.9 MB ? eta -:--:--\n",
      "   ---------------------------------------- 0.0/3.9 MB ? eta -:--:--\n",
      "   - -------------------------------------- 0.1/3.9 MB 1.3 MB/s eta 0:00:03\n",
      "   ------ --------------------------------- 0.6/3.9 MB 4.7 MB/s eta 0:00:01\n",
      "   ------------- -------------------------- 1.3/3.9 MB 7.6 MB/s eta 0:00:01\n",
      "   ------------------------ --------------- 2.4/3.9 MB 10.9 MB/s eta 0:00:01\n",
      "   ---------------------------------------  3.9/3.9 MB 14.7 MB/s eta 0:00:01\n",
      "   ---------------------------------------- 3.9/3.9 MB 13.1 MB/s eta 0:00:00\n",
      "Installing collected packages: lxml\n",
      "Successfully installed lxml-5.1.0\n"
     ]
    },
    {
     "name": "stderr",
     "output_type": "stream",
     "text": [
      "\n",
      "[notice] A new release of pip is available: 23.3.2 -> 24.0\n",
      "[notice] To update, run: C:\\Users\\littlefox\\AppData\\Local\\Programs\\Python\\Python312\\python.exe -m pip install --upgrade pip\n"
     ]
    }
   ],
   "source": [
    "    !pip install requests beautifulsoup4 lxml"
   ]
  },
  {
   "cell_type": "code",
   "execution_count": 2,
   "id": "3b91ad6e-efcf-4dee-9ca1-6a0bd9ae5f7b",
   "metadata": {},
   "outputs": [],
   "source": [
    "import requests\n",
    "from bs4 import BeautifulSoup"
   ]
  },
  {
   "cell_type": "code",
   "execution_count": 3,
   "id": "532a203c-9f42-4fe5-8e12-f81443114407",
   "metadata": {},
   "outputs": [],
   "source": [
    "url = \"https://entertain.naver.com/now/read?oid=312&aid=0000648957\""
   ]
  },
  {
   "cell_type": "code",
   "execution_count": 4,
   "id": "8c61b399-b188-4109-a78f-482e8ed59f94",
   "metadata": {},
   "outputs": [],
   "source": [
    "response = requests.get(url)"
   ]
  },
  {
   "cell_type": "code",
   "execution_count": 6,
   "id": "b725fec8-67b0-498b-920a-0b2c5e0b9efe",
   "metadata": {},
   "outputs": [],
   "source": [
    "soup = BeautifulSoup(response.text, \"lxml\")"
   ]
  },
  {
   "cell_type": "code",
   "execution_count": 13,
   "id": "5ee704e6-4779-4698-be0b-684b5bac6bfb",
   "metadata": {},
   "outputs": [],
   "source": [
    "article = soup.find(\"div\", class_=\"article_body\").text.strip()"
   ]
  },
  {
   "cell_type": "code",
   "execution_count": 14,
   "id": "0e753cc1-0335-40aa-99a6-f284ef35a7c9",
   "metadata": {},
   "outputs": [
    {
     "name": "stdout",
     "output_type": "stream",
     "text": [
      "[텐아시아=최지예 기자] \n",
      "가수 아이유가 이번 신보를 통해 영화적 세계관을 펼쳐내고 있다. 아이유 소속사 EDAM 엔터테인먼트는 13일 0시 공식 SNS 채널을 통해 아이유의 6번째 미니앨범 'The Winning'(더 위닝)의 수록곡 'Shh..' 뮤직비디오에 배우 탕웨이가 출연한다고 밝혔다. 탕웨이의 국내 뮤직비디오 출연은 처음이다. 탕웨이는 다수의 작품을 통해 연기력을 인정받았고 자신만의 연기 세계를 구축한 배우. 영화 '헤어질 결심'(감독 박찬욱)으로 2022년 '제43회 청룡영화상 여우주연상', 2023년 '제59회 백상예술대상 영화부문 최우수 연기상' 등을 수상하는 등 국내 영화 팬들에게 명품 배우로 잘 알려져 있다. 탕웨이는 아이유 뮤직비디오에 출연하게 된 이유로 \"아티스트 아이유를 좋아하기 때문\"이라며 \"그간 저의 연예 활동 중 뮤직비디오 출연은 처음인데, 아이유와 함께해서 행복했고 현장에서 많은 걸 배울 수 있었다\"고 소감을 밝히기도. 아이유의 이번 신보 뮤직비디오에 탕웨이가 출연하는 것은 섭외적인 측면에서 가장 먼저 눈길을 끌지만, 자세히 들여다 보면 아이유가 이번 신보를 통해 영화적 세계관을 펼쳐내고 있다는 사실을 눈치챌 수 있다. 아이유는 영화 '브로커'(감독 고레에다 히로카즈)를 통해 제75회 칸 영화제에 초청되고, 제27회 춘사국제영화제 제42회 한국영화평론가협회상 신인여우상을 수상하는 등 영화계에서도 주목받고 있다. 가수 뿐 아니라 배우로서도 큰 비전을 갖고 있는 아이유는 향후 영화계로 활동 반경을 더욱 넓혀갈 계획을 갖고 있다. 앞서 아이유는 선공개곡 'Love wins all'(러브 윈스 올)에서도 영화적 컬래버를 시도했다. 'Love wins all'은 영화 '콘크리트 유토피아'로 연출력을 인정받은 엄태화 감독이 뮤직비디오를 맡아 연출했다. 이 뮤직비디오는 거대한 큐브를 비롯해 주인공인 아이유와 그룹 BTS 뷔가 말하지 못하고 보지 못한다는 설정, 캠코더, 턱시도와 드레스 등 영화적 상징과 은유를 통해 음악의 메시지를 담아냈다. 이와 관련해 신체적 장애를 가진 아이유와 뷔의 설정이 장애를 비하한 것 아니냐는 논란이 나오기도 했지만, 영화적인 장르의 특성상 표면적인 설정보다는 그 설정이 담고 있는 상징과 은유가 진짜 메시지로 다뤄지는 만큼 표면적인 감상에 그치지 않고 여러 해석과 생각할 거리를 제공했다는 평가를 이끌어냈다. 아이유는 'Love wins all'에 이어 'Shh..'를 통해서도 영화적인 인물인 탕웨이와 손잡으면서 또 한번 자신의 신곡과 영화적 상상력을 접목시켰다. 이번 'Shh..' 뮤직비디오에서 아이유와 탕웨이는 모녀, 친구 관계로 호흡을 맞췄다고 전해진다. 탕웨이는 \"아이유가 저의 엄마 역할도 하고, 친구 역할도 하는 아주 흥미로운 관계였다\"고 전해 이들이 만들어낼 서사를 기대하기 만들었다.아이유는 자신이 가장 자신 있는 음악을 토대로 창작할 수 있는 서사 콘텐츠인 뮤직비디오를 통해 뻗어나가고 싶은 분야인 영화적 세계관과 상상력을 더함으로써 자신의 정체성을 더욱 공고히 만들고 있다. \n",
      "/ 사진제공=EDAM엔터테인먼트최지예 텐아시아 기자 wisdomart@tenasia.co.kr\n"
     ]
    }
   ],
   "source": [
    "print(article)"
   ]
  },
  {
   "cell_type": "code",
   "execution_count": 15,
   "id": "c86a241b-da3f-4008-bea4-d00a3991825b",
   "metadata": {},
   "outputs": [],
   "source": [
    "def crawl_naver_entertainment(url):\n",
    "    response = requests.get(url)\n",
    "    soup = BeautifulSoup(response.text, \"lxml\")\n",
    "    article = soup.find(\"div\", class_=\"article_body\").text.strip()\n",
    "    return article"
   ]
  },
  {
   "cell_type": "code",
   "execution_count": 16,
   "id": "e1bcdee7-8486-4e33-85e4-d14cef8b6244",
   "metadata": {},
   "outputs": [
    {
     "data": {
      "text/plain": [
       "'[텐아시아=최지예 기자] \\n가수 아이유가 이번 신보를 통해 영화적 세계관을 펼쳐내고 있다. 아이유 소속사 EDAM 엔터테인먼트는 13일 0시 공식 SNS 채널을 통해 아이유의 6번째 미니앨범 \\'The Winning\\'(더 위닝)의 수록곡 \\'Shh..\\' 뮤직비디오에 배우 탕웨이가 출연한다고 밝혔다. 탕웨이의 국내 뮤직비디오 출연은 처음이다. 탕웨이는 다수의 작품을 통해 연기력을 인정받았고 자신만의 연기 세계를 구축한 배우. 영화 \\'헤어질 결심\\'(감독 박찬욱)으로 2022년 \\'제43회 청룡영화상 여우주연상\\', 2023년 \\'제59회 백상예술대상 영화부문 최우수 연기상\\' 등을 수상하는 등 국내 영화 팬들에게 명품 배우로 잘 알려져 있다. 탕웨이는 아이유 뮤직비디오에 출연하게 된 이유로 \"아티스트 아이유를 좋아하기 때문\"이라며 \"그간 저의 연예 활동 중 뮤직비디오 출연은 처음인데, 아이유와 함께해서 행복했고 현장에서 많은 걸 배울 수 있었다\"고 소감을 밝히기도. 아이유의 이번 신보 뮤직비디오에 탕웨이가 출연하는 것은 섭외적인 측면에서 가장 먼저 눈길을 끌지만, 자세히 들여다 보면 아이유가 이번 신보를 통해 영화적 세계관을 펼쳐내고 있다는 사실을 눈치챌 수 있다. 아이유는 영화 \\'브로커\\'(감독 고레에다 히로카즈)를 통해 제75회 칸 영화제에 초청되고, 제27회 춘사국제영화제 제42회 한국영화평론가협회상 신인여우상을 수상하는 등 영화계에서도 주목받고 있다. 가수 뿐 아니라 배우로서도 큰 비전을 갖고 있는 아이유는 향후 영화계로 활동 반경을 더욱 넓혀갈 계획을 갖고 있다. 앞서 아이유는 선공개곡 \\'Love wins all\\'(러브 윈스 올)에서도 영화적 컬래버를 시도했다. \\'Love wins all\\'은 영화 \\'콘크리트 유토피아\\'로 연출력을 인정받은 엄태화 감독이 뮤직비디오를 맡아 연출했다. 이 뮤직비디오는 거대한 큐브를 비롯해 주인공인 아이유와 그룹 BTS 뷔가 말하지 못하고 보지 못한다는 설정, 캠코더, 턱시도와 드레스 등 영화적 상징과 은유를 통해 음악의 메시지를 담아냈다. 이와 관련해 신체적 장애를 가진 아이유와 뷔의 설정이 장애를 비하한 것 아니냐는 논란이 나오기도 했지만, 영화적인 장르의 특성상 표면적인 설정보다는 그 설정이 담고 있는 상징과 은유가 진짜 메시지로 다뤄지는 만큼 표면적인 감상에 그치지 않고 여러 해석과 생각할 거리를 제공했다는 평가를 이끌어냈다. 아이유는 \\'Love wins all\\'에 이어 \\'Shh..\\'를 통해서도 영화적인 인물인 탕웨이와 손잡으면서 또 한번 자신의 신곡과 영화적 상상력을 접목시켰다. 이번 \\'Shh..\\' 뮤직비디오에서 아이유와 탕웨이는 모녀, 친구 관계로 호흡을 맞췄다고 전해진다. 탕웨이는 \"아이유가 저의 엄마 역할도 하고, 친구 역할도 하는 아주 흥미로운 관계였다\"고 전해 이들이 만들어낼 서사를 기대하기 만들었다.아이유는 자신이 가장 자신 있는 음악을 토대로 창작할 수 있는 서사 콘텐츠인 뮤직비디오를 통해 뻗어나가고 싶은 분야인 영화적 세계관과 상상력을 더함으로써 자신의 정체성을 더욱 공고히 만들고 있다. \\n/ 사진제공=EDAM엔터테인먼트최지예 텐아시아 기자 wisdomart@tenasia.co.kr'"
      ]
     },
     "execution_count": 16,
     "metadata": {},
     "output_type": "execute_result"
    }
   ],
   "source": [
    "crawl_naver_entertainment(url)"
   ]
  },
  {
   "cell_type": "code",
   "execution_count": null,
   "id": "e9112a5d-f161-4046-9287-4900030713d2",
   "metadata": {},
   "outputs": [],
   "source": []
  }
 ],
 "metadata": {
  "kernelspec": {
   "display_name": "Python 3 (ipykernel)",
   "language": "python",
   "name": "python3"
  },
  "language_info": {
   "codemirror_mode": {
    "name": "ipython",
    "version": 3
   },
   "file_extension": ".py",
   "mimetype": "text/x-python",
   "name": "python",
   "nbconvert_exporter": "python",
   "pygments_lexer": "ipython3",
   "version": "3.12.1"
  }
 },
 "nbformat": 4,
 "nbformat_minor": 5
}
